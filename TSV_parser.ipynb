{
 "cells": [
  {
   "cell_type": "code",
   "execution_count": 44,
   "metadata": {
    "collapsed": true
   },
   "outputs": [],
   "source": [
    "%matplotlib inline\n"
   ]
  },
  {
   "cell_type": "code",
   "execution_count": 1,
   "metadata": {
    "collapsed": false
   },
   "outputs": [],
   "source": [
    "def main():\n",
    "    filename = '/media/ab/data/Research_Data/SRR930649_fullModel-11_K_models_MLE.tsv'\n",
    "    x = import_data_from_file(filename)\n",
    "    for line in x:\n",
    "        print line    \n",
    "    \n",
    "def import_data_from_file(filename):\n",
    "    # This function opens a file from the disk. It returns the raw data.\n",
    "    try:\n",
    "        return open(filename)\n",
    "    except IOError:\n",
    "        print \"Unable to open file: %s\" %(filename)\n",
    "        "
   ]
  },
  {
   "cell_type": "code",
   "execution_count": 74,
   "metadata": {
    "collapsed": true
   },
   "outputs": [],
   "source": [
    "#filename = '/media/ab/data/Research_Data/test.tsv'\n",
    "#filename = '/media/ab/data/Research_Data/SRR930649_fullModel-11_K_models_MLE.tsv'\n"
   ]
  },
  {
   "cell_type": "code",
   "execution_count": 75,
   "metadata": {
    "collapsed": false
   },
   "outputs": [],
   "source": [
    "x=open(filename)\n",
    "data = []"
   ]
  },
  {
   "cell_type": "code",
   "execution_count": 76,
   "metadata": {
    "collapsed": false
   },
   "outputs": [],
   "source": [
    "position = dict()\n",
    "for line in x:\n",
    "    #if line[0] is not '#':\n",
    "    #print line\n",
    "    if line[0] is '>':\n",
    "        #print line\n",
    "        position['name'] = line.split('|')[0][1:].strip('\\n')\n",
    "        position['chromosome'] = (line.split('|')[1]).split(':')[0].strip('\\n')\n",
    "        position['start'] = ((line.split('|')[1]).split(':')[1]).split('-')[0].strip('\\n')\n",
    "        position['end'] = ((line.split('|')[1]).split(':')[1]).split('-')[1].strip('\\n')\n",
    "        position['for_cov'] = (line.split('|')[2]).split(',')[0].strip('\\n')\n",
    "        position['rev_cov'] = (line.split('|')[2]).split(',')[1].strip('\\n')\n",
    "    if line[0] is '~' and line[1] is '1':\n",
    "        #print line\n",
    "        model_1 = dict()\n",
    "        model_1['log-likelihood'] = (line.split('\\t')[0]).split(',')[1].strip('\\n')\n",
    "        model_1['mu_k'] = line.split('\\t')[1].strip('\\n')\n",
    "        model_1['sigma_k'] = line.split('\\t')[2].strip('\\n')\n",
    "        model_1['lambda_k'] = line.split('\\t')[3].strip('\\n')\n",
    "        model_1['pi_k'] = line.split('\\t')[4].strip('\\n')\n",
    "        model_1['fp_k'] = line.split('\\t')[5].strip('\\n')\n",
    "        model_1['w_[p,k]'] = (line.split('\\t')[6]).split(',')[0].strip('\\n')\n",
    "        model_1['w_[f,k]'] = (line.split('\\t')[6]).split(',')[1].strip('\\n')\n",
    "        model_1['w_[r,k]'] = (line.split('\\t')[6]).split(',')[2].strip('\\n')\n",
    "        model_1['b_[f,k]'] = line.split('\\t')[7].strip('\\n')\n",
    "        model_1['a_[r,k]'] = line.split('\\t')[8].strip('\\n')        \n",
    "        position['model_1'] = model_1\n",
    "        data.append(position)\n",
    "        position = dict()\n",
    "#print model_1\n",
    "#print data"
   ]
  },
  {
   "cell_type": "code",
   "execution_count": 77,
   "metadata": {
    "collapsed": false
   },
   "outputs": [],
   "source": [
    "lambda_ = []\n",
    "sigma = []\n",
    "mu = []\n",
    "\n",
    "for i in data:\n",
    "    lambda_.append(float(i['model_1']['lambda_k']))\n",
    "    sigma.append(float(i['model_1']['sigma_k']))\n",
    "    mu.append(float(i['model_1']['mu_k']))\n",
    "\n",
    "#print \"lambda: \", lambda_\n",
    "#print \"sigma: \", sigma\n",
    "#print \"mu: \", mu"
   ]
  },
  {
   "cell_type": "code",
   "execution_count": 37,
   "metadata": {
    "collapsed": false
   },
   "outputs": [
    {
     "name": "stdout",
     "output_type": "stream",
     "text": [
      "29255\n"
     ]
    }
   ],
   "source": [
    "tss_count = len(lambda_)\n",
    "print tss_count"
   ]
  },
  {
   "cell_type": "code",
   "execution_count": 45,
   "metadata": {
    "collapsed": false
   },
   "outputs": [
    {
     "name": "stdout",
     "output_type": "stream",
     "text": [
      "min:  125517.872793\n",
      "max:  195240923.146\n",
      "num_bins:  292\n"
     ]
    },
    {
     "data": {
      "image/png": "[encoded data removed]",
      "text/plain": [
       "<matplotlib.figure.Figure at 0x7f5e25c9f250>"
      ]
     },
     "metadata": {},
     "output_type": "display_data"
    }
   ],
   "source": [
    "import numpy as np\n",
    "import matplotlib.mlab as mlab\n",
    "import matplotlib.pyplot as plt\n",
    "\n",
    "#sigma = [4,6,7,3,5,7,5,3,7,9,6,37,3,5,3]\n",
    "# example data\n",
    "#mu = 100  # mean of distribution\n",
    "#sigma = 15  # standard deviation of distribution\n",
    "x = mu\n",
    "print \"min: \", min(x)\n",
    "print \"max: \", max(x)\n",
    "#print x\n",
    "#x = [68.395382, 17.030365, 70.130632, 24.006091, 24.539265]\n",
    "#x = mu + sigma * np.random.randn(50)\n",
    "#print \"x: \", x\n",
    "num_bins = len(x) / 100\n",
    "print \"num_bins: \", num_bins\n",
    "# the histogram of the data\n",
    "n, bins, patches = plt.hist(x, num_bins, normed=1, facecolor='blue', alpha=0.5)\n",
    "# add a 'best fit' line\n",
    "#y = mlab.normpdf(bins, mu, sigma)\n",
    "#plt.plot(bins, y, 'r--')\n",
    "plt.xlabel('Sigma')\n",
    "plt.ylabel('Probability')\n",
    "plt.title(r'Histogram of IQ: $\\mu=100$, $\\sigma=15$')\n",
    "\n",
    "# Tweak spacing to prevent clipping of ylabel\n",
    "#plt.subplots_adjust(left=0.15)\n",
    "plt.show()"
   ]
  },
  {
   "cell_type": "code",
   "execution_count": 93,
   "metadata": {
    "collapsed": false
   },
   "outputs": [
    {
     "data": {
      "image/png": "[encoded data removed]",
      "text/plain": [
       "<matplotlib.figure.Figure at 0x7f5e1f71b490>"
      ]
     },
     "metadata": {},
     "output_type": "display_data"
    }
   ],
   "source": [
    "\"\"\"\n",
    "Histogram of mu, sigma, lambda\n",
    "\n",
    "\"\"\"\n",
    "import numpy as np\n",
    "import matplotlib.pyplot as plt\n",
    "\n",
    "x1 = mu\n",
    "x2 = sigma\n",
    "#x3 = lambda_\n",
    "\n",
    "x3 = []\n",
    "for i in lambda_:\n",
    "    if i != (np.inf):\n",
    "        x3.append(i)\n",
    "#print sorted(x3)\n",
    "\n",
    "\n",
    "x1_bins = len(mu) / 1000\n",
    "x2_bins = len(sigma) / 1000\n",
    "x3_bins = len(lambda_) / 1000\n",
    "\n",
    "fig, (ax1, ax2, ax3) = plt.subplots(ncols=3, figsize=(16, 4))\n",
    "\n",
    "ax1.hist(x1, x1_bins, normed=1, histtype='bar', facecolor='g')\n",
    "ax1.set_title('mu')\n",
    "ax2.hist(x2, x2_bins, normed=1, histtype='bar', facecolor='r')\n",
    "ax2.set_title('sigma')\n",
    "ax3.hist(x3, x3_bins, normed=1, histtype='bar', facecolor='b')\n",
    "ax3.set_title('lambda_')\n",
    "fig.suptitle(\"dataset 1\", y=1.02, fontsize=18)\n",
    "\n",
    "# Create a histogram by providing the bin edges (unequally spaced).\n",
    "#bins = [100, 150, 180, 195, 205, 220, 250, 300]\n",
    "#ax1.hist(x, bins, normed=1, histtype='bar', rwidth=0.8)\n",
    "#ax1.set_title('unequal bins')\n",
    "\n",
    "plt.tight_layout()\n",
    "plt.show()"
   ]
  },
  {
   "cell_type": "code",
   "execution_count": 79,
   "metadata": {
    "collapsed": false
   },
   "outputs": [
    {
     "name": "stdout",
     "output_type": "stream",
     "text": [
      "min:  20.0\n",
      "max:  inf\n"
     ]
    }
   ],
   "source": [
    "import numpy as np\n",
    "print \"min: \", min(lambda_)\n",
    "print \"max: \", max(lambda_)\n",
    "z = []\n",
    "for i in lambda_:\n",
    "    if i != (np.inf):\n",
    "        z.append(i)\n",
    "#print sorted(z)\n"
   ]
  },
  {
   "cell_type": "code",
   "execution_count": 71,
   "metadata": {
    "collapsed": false
   },
   "outputs": [
    {
     "name": "stdout",
     "output_type": "stream",
     "text": [
      "inf\n"
     ]
    }
   ],
   "source": [
    "print np.inf"
   ]
  },
  {
   "cell_type": "code",
   "execution_count": 89,
   "metadata": {
    "collapsed": false
   },
   "outputs": [
    {
     "name": "stdout",
     "output_type": "stream",
     "text": [
      "SRR930649_fullModel-11_K_models_MLE.tsv\n",
      "test.tsv\n"
     ]
    }
   ],
   "source": [
    "#import os\n",
    "dir_list = os.listdir('/media/ab/data/Research_Data/')\n",
    "for j in dir_list:\n",
    "    if j[-4:] == '.tsv':\n",
    "        print j"
   ]
  },
  {
   "cell_type": "code",
   "execution_count": 29,
   "metadata": {
    "collapsed": false
   },
   "outputs": [
    {
     "name": "stdout",
     "output_type": "stream",
     "text": [
      "[4, 5, -2, 8, 2, inf, 6, 12, -inf]\n",
      "12\n",
      "-2\n",
      "infinites removed\n",
      "[4, 5, -2, 8, 2, 12, 6, 12, -2]\n"
     ]
    }
   ],
   "source": [
    "import numpy as np\n",
    "in_list = [4, 5, -2, 8, 2, float('inf'), 6, 12, -float('inf')]\n",
    "print in_list\n",
    "out_list = []\n",
    "max_num = 0\n",
    "min_num = 0\n",
    "for i in in_list:\n",
    "    if i != float('inf') and i > max_num:\n",
    "        max_num = i\n",
    "    if -i != float('inf') and i < min_num:\n",
    "        min_num = i\n",
    "        \n",
    "print max_num\n",
    "print min_num\n",
    "\n",
    "for i in in_list:\n",
    "    if i == (float('inf')):\n",
    "        out_list.append(max_num)\n",
    "    elif -i == (np.inf):\n",
    "        out_list.append(min_num)  \n",
    "    else:\n",
    "        out_list.append(i)\n",
    "        \n",
    "print \"infinites removed\"        \n",
    "print out_list\n",
    "\n"
   ]
  },
  {
   "cell_type": "code",
   "execution_count": 13,
   "metadata": {
    "collapsed": false
   },
   "outputs": [
    {
     "name": "stdout",
     "output_type": "stream",
     "text": [
      "True\n"
     ]
    }
   ],
   "source": [
    "x = [float(\"inf\")]\n",
    "print x[0] == float(\"inf\")"
   ]
  },
  {
   "cell_type": "code",
   "execution_count": null,
   "metadata": {
    "collapsed": true
   },
   "outputs": [],
   "source": []
  }
 ],
 "metadata": {
  "kernelspec": {
   "display_name": "Python 2",
   "language": "python",
   "name": "python2"
  },
  "language_info": {
   "codemirror_mode": {
    "name": "ipython",
    "version": 2
   },
   "file_extension": ".py",
   "mimetype": "text/x-python",
   "name": "python",
   "nbconvert_exporter": "python",
   "pygments_lexer": "ipython2",
   "version": "2.7.10"
  }
 },
 "nbformat": 4,
 "nbformat_minor": 0
}
