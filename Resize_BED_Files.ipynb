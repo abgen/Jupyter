{
 "cells": [
  {
   "cell_type": "code",
   "execution_count": 10,
   "metadata": {
    "collapsed": false
   },
   "outputs": [
    {
     "name": "stdout",
     "output_type": "stream",
     "text": [
      "Input directory is:  /media/ab/HD2/dnaseEncode/dnaseBed/\n",
      "Output directory is:  /media/ab/HD2/dnaseEncode/dnaseBed/NEW/\n"
     ]
    },
    {
     "ename": "SystemExit",
     "evalue": "",
     "output_type": "error",
     "traceback": [
      "An exception has occurred, use %tb to see the full traceback.\n",
      "\u001b[0;31mSystemExit\u001b[0m\n"
     ]
    }
   ],
   "source": [
    "import numpy as np\n",
    "import os\n",
    "import sys\n",
    "import csv\n",
    "\n",
    "WINDOW = 150\n",
    "\n",
    "def main():  \n",
    "    \n",
    "    file_filter = \".bed\"\n",
    "    INPUT_DIR = '/media/ab/HD2/dnaseEncode/dnaseBed/'\n",
    "    OUTPUT_DIR = '/media/ab/HD2/dnaseEncode/dnaseBed/NEW/'\n",
    "    if INPUT_DIR[-1] != '/':\n",
    "        INPUT_DIR = INPUT_DIR + '/'\n",
    "    if OUTPUT_DIR[-1] != '/':\n",
    "        OUTPUT_DIR = OUTPUT_DIR + '/'\n",
    "    createOutputFolder(OUTPUT_DIR)\n",
    "    print \"Input directory is: \", INPUT_DIR\n",
    "    print \"Output directory is: \", OUTPUT_DIR\n",
    "    \n",
    "    ### Open the files in the input directory and load the data from the bed files\n",
    "    dir_list = sorted(os.listdir(INPUT_DIR))\n",
    "    for FILENAME in dir_list:\n",
    "        if FILENAME[-(len(file_filter)):] == file_filter:      ### Load only the TSV files\n",
    "            newBED = resizeBed(INPUT_DIR+FILENAME)\n",
    "            saveDataToText(OUTPUT_DIR,FILENAME,newBED)\n",
    "    return\n",
    "\n",
    "def createOutputFolder(new_folder):\n",
    "\n",
    "    # Checks to see if a directory exists, and if not, makes the directory. It\n",
    "    # returns the directory path as output\n",
    "\n",
    "    if not os.path.exists(new_folder):\n",
    "        os.mkdir(new_folder)\n",
    "    return new_folder\n",
    "\n",
    "def resizeBed(file_to_open):    \n",
    "\n",
    "    X = open(file_to_open)   ### Open the file\n",
    "    output = []                    ### Initiate the data list\n",
    "    for line in X:               ### For each line in the file x\n",
    "        if line[0] == '#':\n",
    "            output.append(line)\n",
    "            continue\n",
    "        splitLine = line.strip('\\n').split('\\t')\n",
    "        middle = np.mean([int(splitLine[2]),int(splitLine[1])])\n",
    "        splitLine[1] = int(middle - WINDOW)\n",
    "        splitLine[2] = int(middle + WINDOW)\n",
    "        output.append(splitLine)\n",
    "    return output            \n",
    "\n",
    "def saveDataToText(directory, name, data):\n",
    "\n",
    "    # Create writer\n",
    "    ofile  = open(directory+name, \"wb\")\n",
    "    writer = csv.writer(ofile, delimiter='\\t')\n",
    "    \n",
    "    # Write each line\n",
    "    for line in data:\n",
    "        outLine = []\n",
    "        for i in line:\n",
    "            outLine.append(i)\n",
    "        writer.writerow(outLine)\n",
    "\n",
    "    # Close the file\n",
    "    ofile.close()\n",
    "    return            \n",
    "\n",
    "\n",
    "if __name__ == \"__main__\":\n",
    "    sys.exit(main())"
   ]
  },
  {
   "cell_type": "code",
   "execution_count": 5,
   "metadata": {
    "collapsed": false
   },
   "outputs": [
    {
     "name": "stdout",
     "output_type": "stream",
     "text": [
      "5\n"
     ]
    }
   ],
   "source": [
    "import numpy as np\n",
    "print int(np.mean([4,7]))"
   ]
  },
  {
   "cell_type": "code",
   "execution_count": null,
   "metadata": {
    "collapsed": true
   },
   "outputs": [],
   "source": []
  }
 ],
 "metadata": {
  "kernelspec": {
   "display_name": "Python [conda root]",
   "language": "python",
   "name": "conda-root-py"
  },
  "language_info": {
   "codemirror_mode": {
    "name": "ipython",
    "version": 2
   },
   "file_extension": ".py",
   "mimetype": "text/x-python",
   "name": "python",
   "nbconvert_exporter": "python",
   "pygments_lexer": "ipython2",
   "version": "2.7.12"
  }
 },
 "nbformat": 4,
 "nbformat_minor": 1
}
