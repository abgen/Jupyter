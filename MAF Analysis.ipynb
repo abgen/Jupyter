{
 "cells": [
  {
   "cell_type": "code",
   "execution_count": 81,
   "metadata": {
    "collapsed": false
   },
   "outputs": [
    {
     "name": "stdout",
     "output_type": "stream",
     "text": [
      "TCGGGGCAGGTGGCAACCCCTTGGACGCAGGCTCAGGACGCcagggtcagggcgtgagtgccggggcCCCCTCAAAGCCGCGGGGTCCAAAGAGGCCGCCGGccccggccccgccctctgctcctcctccccctccaccgccagGCCCGGGTGGCCgccgcctcctccGAACGcggccgcctcctcctccgaacgtggcctcctccgAACgcggccgcctcctcctccgaacgcggccgcctcctcctccgaacgtgg------cctcctccgaacgtggccgcctcctcctccgaacgtg---gcctcctccgaacgcggccgccgcctcctccgaacgcggcctcctcctcctccgaacgcggccgcctcctcctccgaacgtggccg------cctccgaacgtggccgccgcctcctccgaacgtggccgcttccgCAGCGCCCGGCGCAGGCCGCACTCCGCCACCAGGGGGCGCCACAGCTCCTCGCGCCGCCGCCTCCCGCAAACACA\n",
      "||||||||||||||||||||||||||||||||||||||||||||||||||||||||||||||||||@|||||||||||||||||||||||||||||||||||||||||||||||||@||@|||||||||||||||||||||||||||||||||___|||||||||||||||||@||||___________________|||@||||||||||@|||||||@|||||||||||||@|||||||@||||||||||||||||^^^^^^|||||||||||||||||||||@|||||||||||||||^^^|||@||||||||||@|||||||@|||||||||||||@||___||@||@||||||||||@|||||___||@||||||||||||||||^^^^^^||||||||||||___||||||@||||||||||@||||||||||||||||||||||||||||||||||||||||||||||||||||||||||||||||||||||||||||||||||||||\n",
      "TCGGGGCAGGTGGCAACCCCTTGGACGCAGGCTCAGGACGCcagggtcagggcgtgagtgCCGGGGTCCCCTCAAAGCCGCGGGGTCCAAAGAGGCCGCCGGccccggccccgccccctcctcctcctccccctccaccgccagGCCCGGGTG---GCCGCCTCCTCCGAACgtggcc-------------------gccccctccgaacgtggccgccccctcctccgaacgtggccgccccctcctccgaacgtggccgccccctcctccgaacgtggccgccgcctcctccgaacgtggccgccCcctccgaacgtggccgccccctcctccgaacgtgg---ccgccccctccgaacgtggccg---ccccctccgaacgtggccgcccccccctccgaacgtg---gccgccccctccgaacgcggccgcttccgCAGCGCCCGGCGCAGGCCGCACTCCGCCACCAGGGGGCGCCACAGCTCCTCGCGCCGCCGCCTCCCGCAAACACA\n",
      "\n",
      "\n",
      "^ = deletion in sequence 1; _ = deletion in sequence 2; | = match; @ = mismatch\n",
      "Total length of alignment:  515\n",
      "Number of deletions in sequence 1:  15\n",
      "Number of deletions in sequence 2:  31\n",
      "Number of mismatches:  20\n",
      "Number of matches:  449\n",
      "Sequence identity:  0.872\n",
      "GTACACTCGGGTAAGggggggccccAGTTCCTGGGGCGGGGCTGGAGCTGGCTGGCAGTCACTACCTCCCTGGAAAGGATGGTGGGGTAGGGCCATTCCCCAACGCCCTCTCCCTCCCCAAAAGCAGTGCGCAGCAGGGACTGGACTGTGCACCCcaccttttttttttttttttttttttGCCAGGTGTTTTCTGCCTGACAC----TCAAACCCAACAGATCACTGTTtttaaaaaattTCCGTGAGCTGCACAAACAGCTCCTCTTGGCTCTGCTGGGCTGGAGGATGGAGCAGCACCCGGGTCCTGACCCTccctcc----ctcccccTTCCAGGTCTTCAGGGAGCAGGGGATCGACGGGGAGACCCTGCCACTGCTGACGGAGGAGCACCTGCTGACCAACATGGGGCTGAAGCTGGGGCCCGCCCTCAAGATCCGGGCCCAGGTGAGACGCTGGGGAGTGAGGTCAGGGTCTCCAGACCACAGCTGGGCAGAAAGCTCTGG\n",
      "||||||||||||||||||||||||||||||||||||||||||||||||||||||||||||||||||||||||||||@|@|||||@|||||||||||||||||||||||||||||||||@||||||||||||||||||||||||||||||||||||||||||||||||||____________|||||||||||||||||||||||^^^^|||||||@||||||||||||||||@||||||||||||||||||||||||||||||||||||||||||||||||||||||||||||||||||||||||||||||||||||||||^^^^|||||||||||||||||||||||||||||||||||||||||||||||||||||||||||||||||||||||||||||@||@||||||||||||||||||||||||||||||||||||||||||||||||||||||||||||||||||||||||||||||||||||||||||||||||||||||\n",
      "GTACACTCGGGTAAGggggggccccAGTTCCTGGGGCGGGGCTGGAGCTGGCTGGCAGTCACTACCTCCCTGGAAAAGTTGGTGTGGTAGGGCCATTCCCCAACGCCCTCTCCCTCCCTAAAAGCAGTGCGCAGCAGGGACTGGACTGTGCACCCCAcctttttttttt------------GCCAGGTGTTTTCTGCCTGACACCGACTCAAACCTAACAGATCACTGTTttaaaaaaattTCCGTGAGCTGCACAAACAGCTCCTCTTGGCTCTGCTGGGCTGGAGGATGGAGCAGCACCCGGGTCCTGACCCTCCCTCCTTCTCTCCCCCTTCCAGGTCTTCAGGGAGCAGGGGATCGACGGGGAGACCCTGCCACTGCTGACGGAGGAGCACCTGCTGAGCACCATGGGGCTGAAGCTGGGGCCCGCCCTCAAGATCCGGGCCCAGGTGAGACGCTGGGGAGTGAGGTCAGGGTCTCCAGACCACAGCTGGGCAGAAAGCTCTGG\n",
      "\n",
      "\n",
      "^ = deletion in sequence 1; _ = deletion in sequence 2; | = match; @ = mismatch\n",
      "Total length of alignment:  508\n",
      "Number of deletions in sequence 1:  8\n",
      "Number of deletions in sequence 2:  12\n",
      "Number of mismatches:  8\n",
      "Number of matches:  480\n",
      "Sequence identity:  0.945\n"
     ]
    },
    {
     "ename": "SystemExit",
     "evalue": "",
     "output_type": "error",
     "traceback": [
      "An exception has occurred, use %tb to see the full traceback.\n",
      "\u001b[0;31mSystemExit\u001b[0m\n"
     ]
    }
   ],
   "source": [
    "from Bio import AlignIO\n",
    "import sys\n",
    "\n",
    "def main():  \n",
    "    maf = open(\"/media/ab/HD3/speciesComp/test.maf\")\n",
    "    #%timeit mafParse(maf)\n",
    "    mafData = mafParse(maf)\n",
    "    #printAlignment(mafData,[3],[\"seq0\",\"seq1\"])\n",
    "    printPWAlignment(mafData,[2,4],[\"seq0\",\"seq1\"])\n",
    "    \n",
    "def printAlignment(mafData, alignments, sequences):\n",
    "    for i in alignments:\n",
    "        for j in sequences:\n",
    "            print mafData[i][j][\"sequence\"]\n",
    "        print \"\\n\"\n",
    "\n",
    "def printPWAlignment(mafData, alignments, sequences):\n",
    "    for i in alignments:\n",
    "        pwa = []\n",
    "        for z in range(len(mafData[i][sequences[0]][\"sequence\"])):\n",
    "            #print mafData[i][sequences[0]][\"sequence\"][z], mafData[i][sequences[1]][\"sequence\"][z]\n",
    "            if (mafData[i][sequences[0]][\"sequence\"][z] == '-'):\n",
    "                pwa.append(\"^\")\n",
    "            elif (mafData[i][sequences[1]][\"sequence\"][z] == '-'):\n",
    "                pwa.append(\"_\")\n",
    "            elif mafData[i][sequences[0]][\"sequence\"][z].upper() == mafData[i][sequences[1]][\"sequence\"][z].upper():\n",
    "                pwa.append(\"|\")\n",
    "            else:\n",
    "                pwa.append(\"@\")\n",
    "        print mafData[i][sequences[0]][\"sequence\"]\n",
    "        print ''.join(pwa)\n",
    "        print mafData[i][sequences[1]][\"sequence\"]\n",
    "        print \"\\n\"\n",
    "        print \"^ = deletion in sequence 1; _ = deletion in sequence 2; | = match; @ = mismatch\"\n",
    "        alignmentStats(pwa)\n",
    "    \n",
    "def alignmentStats(pwa):\n",
    "    print \"Total length of alignment: \", len(pwa)\n",
    "    print \"Number of deletions in sequence 1: \", pwa.count(\"^\") \n",
    "    print \"Number of deletions in sequence 2: \", pwa.count(\"_\")\n",
    "    print \"Number of mismatches: \", pwa.count(\"@\")\n",
    "    print \"Number of matches: \", pwa.count(\"|\")\n",
    "    print \"Sequence identity: \", round(float(pwa.count(\"|\"))/len(pwa),3)\n",
    "        \n",
    "def mafParse(mafFile):\n",
    "    data = []\n",
    "    alignment = dict()\n",
    "    seqCount = 0\n",
    "    for i in mafFile:\n",
    "        if i[0] == \"#\":\n",
    "            continue\n",
    "        if i[0] == \"a\":\n",
    "            if len(alignment) > 0:\n",
    "                data.append(alignment)\n",
    "                alignment = dict() \n",
    "                seqCount = 0\n",
    "            alignment[\"score\"] = i.split(\"=\")[1].strip()\n",
    "        if i[0] == \"s\":\n",
    "            sequence = dict()\n",
    "            sequence[\"name\"] = i.split()[1].strip()\n",
    "            sequence[\"start\"] = i.split()[2].strip()\n",
    "            sequence[\"length\"] = i.split()[3].strip()\n",
    "            sequence[\"strand\"] = i.split()[4].strip()\n",
    "            sequence[\"size\"] = i.split()[5].strip()\n",
    "            sequence[\"sequence\"] = i.split()[6].strip()\n",
    "            alignmentName = \"seq\"+str(seqCount)\n",
    "            alignment[alignmentName] = sequence\n",
    "            seqCount += 1\n",
    "    return data\n",
    "    \n",
    "if __name__ == \"__main__\":\n",
    "    sys.exit(main())"
   ]
  },
  {
   "cell_type": "code",
   "execution_count": null,
   "metadata": {
    "collapsed": true
   },
   "outputs": [],
   "source": []
  }
 ],
 "metadata": {
  "kernelspec": {
   "display_name": "Python [default]",
   "language": "python",
   "name": "python2"
  },
  "language_info": {
   "codemirror_mode": {
    "name": "ipython",
    "version": 2
   },
   "file_extension": ".py",
   "mimetype": "text/x-python",
   "name": "python",
   "nbconvert_exporter": "python",
   "pygments_lexer": "ipython2",
   "version": "2.7.12"
  }
 },
 "nbformat": 4,
 "nbformat_minor": 0
}
