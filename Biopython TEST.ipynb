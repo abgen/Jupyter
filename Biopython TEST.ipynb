{
 "cells": [
  {
   "cell_type": "code",
   "execution_count": 2,
   "metadata": {
    "collapsed": false
   },
   "outputs": [],
   "source": [
    "import Bio as bp"
   ]
  },
  {
   "cell_type": "code",
   "execution_count": 3,
   "metadata": {
    "collapsed": false
   },
   "outputs": [
    {
     "name": "stdout",
     "output_type": "stream",
     "text": [
      "<module 'Bio' from '/media/ab/data/utilities/anaconda2/lib/python2.7/site-packages/Bio/__init__.pyc'>\n"
     ]
    }
   ],
   "source": [
    "print bp"
   ]
  },
  {
   "cell_type": "code",
   "execution_count": 8,
   "metadata": {
    "collapsed": false
   },
   "outputs": [
    {
     "ename": "ValueError",
     "evalue": "More than one record found in handle",
     "output_type": "error",
     "traceback": [
      "\u001b[1;31m---------------------------------------------------------------------------\u001b[0m",
      "\u001b[1;31mValueError\u001b[0m                                Traceback (most recent call last)",
      "\u001b[1;32m<ipython-input-8-05a5f4112f93>\u001b[0m in \u001b[0;36m<module>\u001b[1;34m()\u001b[0m\n\u001b[0;32m      5\u001b[0m \u001b[1;31m#record = SeqIO.read(\"NC_005816.gb\", \"genbank\")\u001b[0m\u001b[1;33m\u001b[0m\u001b[1;33m\u001b[0m\u001b[0m\n\u001b[0;32m      6\u001b[0m \u001b[0mrecord\u001b[0m \u001b[1;33m=\u001b[0m \u001b[0mSeqIO\u001b[0m\u001b[1;33m.\u001b[0m\u001b[0mread\u001b[0m\u001b[1;33m(\u001b[0m\u001b[1;34m\"/home/ab/Downloads/sequence.gb\"\u001b[0m\u001b[1;33m,\u001b[0m \u001b[1;34m\"genbank\"\u001b[0m\u001b[1;33m)\u001b[0m\u001b[1;33m\u001b[0m\u001b[0m\n\u001b[1;32m----> 7\u001b[1;33m \u001b[1;32mprint\u001b[0m  \u001b[0mSeqIO\u001b[0m\u001b[1;33m.\u001b[0m\u001b[0mread\u001b[0m\u001b[1;33m(\u001b[0m\u001b[1;34m\"/home/ab/Downloads/sequence.txt\"\u001b[0m\u001b[1;33m,\u001b[0m \u001b[1;34m\"fasta\"\u001b[0m\u001b[1;33m)\u001b[0m\u001b[1;33m\u001b[0m\u001b[0m\n\u001b[0m",
      "\u001b[1;32m/media/ab/data/utilities/anaconda2/lib/python2.7/site-packages/Bio/SeqIO/__init__.pyc\u001b[0m in \u001b[0;36mread\u001b[1;34m(handle, format, alphabet)\u001b[0m\n\u001b[0;32m    674\u001b[0m         \u001b[0msecond\u001b[0m \u001b[1;33m=\u001b[0m \u001b[0mNone\u001b[0m\u001b[1;33m\u001b[0m\u001b[0m\n\u001b[0;32m    675\u001b[0m     \u001b[1;32mif\u001b[0m \u001b[0msecond\u001b[0m \u001b[1;32mis\u001b[0m \u001b[1;32mnot\u001b[0m \u001b[0mNone\u001b[0m\u001b[1;33m:\u001b[0m\u001b[1;33m\u001b[0m\u001b[0m\n\u001b[1;32m--> 676\u001b[1;33m         \u001b[1;32mraise\u001b[0m \u001b[0mValueError\u001b[0m\u001b[1;33m(\u001b[0m\u001b[1;34m\"More than one record found in handle\"\u001b[0m\u001b[1;33m)\u001b[0m\u001b[1;33m\u001b[0m\u001b[0m\n\u001b[0m\u001b[0;32m    677\u001b[0m     \u001b[1;32mreturn\u001b[0m \u001b[0mfirst\u001b[0m\u001b[1;33m\u001b[0m\u001b[0m\n\u001b[0;32m    678\u001b[0m \u001b[1;33m\u001b[0m\u001b[0m\n",
      "\u001b[1;31mValueError\u001b[0m: More than one record found in handle"
     ]
    }
   ],
   "source": [
    "from reportlab.lib import colors\n",
    "from reportlab.lib.units import cm\n",
    "from Bio.Graphics import GenomeDiagram\n",
    "from Bio import SeqIO\n",
    "#record = SeqIO.read(\"NC_005816.gb\", \"genbank\")\n",
    "record = SeqIO.read(\"/home/ab/Downloads/sequence.gb\", \"genbank\")\n",
    "print  SeqIO.read(\"/home/ab/Downloads/sequence.txt\", \"fasta\")"
   ]
  },
  {
   "cell_type": "code",
   "execution_count": 5,
   "metadata": {
    "collapsed": false
   },
   "outputs": [
    {
     "name": "stdout",
     "output_type": "stream",
     "text": [
      "ID: NC_005816.1\n",
      "Name: NC_005816\n",
      "Description: Yersinia pestis biovar Microtus str. 91001 plasmid pPCP1, complete sequence.\n",
      "Database cross-references: BioProject:PRJNA224116 BioSample:SAMN02602970 Assembly:GCF_000007885.1\n",
      "Number of features: 22\n",
      "/comment=REFSEQ INFORMATION: The reference sequence was derived from\n",
      "AE017046.\n",
      "Annotation was added by the NCBI Prokaryotic Genome Annotation\n",
      "Pipeline (released 2013). Information about the Pipeline can be\n",
      "found here: http://www.ncbi.nlm.nih.gov/genome/annotation_prok/\n",
      "##Genome-Annotation-Data-START##\n",
      "Annotation Provider                    :: NCBI\n",
      "Annotation Date                        :: 08/12/2015 14:32:22\n",
      "Annotation Pipeline                    :: NCBI Prokaryotic Genome\n",
      "                                          Annotation Pipeline\n",
      "Annotation Method                      :: Best-placed reference\n",
      "                                          protein set; GeneMarkS+\n",
      "Annotation Software revision           :: 3.0\n",
      "Features Annotated                     :: Gene; CDS; rRNA; tRNA;\n",
      "                                          ncRNA; repeat_region\n",
      "Genes                                  :: 4,437\n",
      "CDS                                    :: 4,253\n",
      "Pseudo Genes                           :: 83\n",
      "CRISPR Arrays                          :: 1\n",
      "rRNAs                                  :: 8, 7, 7 (5S, 16S, 23S)\n",
      "complete rRNAs                         :: 8, 7, 7 (5S, 16S, 23S)\n",
      "tRNAs                                  :: 71\n",
      "ncRNA                                  :: 2\n",
      "Frameshifted Genes                     :: 44\n",
      "Frameshifted Genes On Monomer Runs     :: 6\n",
      "Frameshifted Genes Not On Monomer Runs :: 2\n",
      "##Genome-Annotation-Data-END##\n",
      "COMPLETENESS: full length.\n",
      "/sequence_version=1\n",
      "/source=Yersinia pestis biovar Microtus str. 91001\n",
      "/taxonomy=['Bacteria', 'Proteobacteria', 'Gammaproteobacteria', 'Enterobacteriales', 'Enterobacteriaceae', 'Yersinia']\n",
      "/keywords=['RefSeq']\n",
      "/references=[Reference(title='Genetics of metabolic variations between Yersinia pestis biovars and the proposal of a new biovar, microtus', ...), Reference(title='Complete genome sequence of Yersinia pestis strain 91001, an isolate avirulent to humans', ...), Reference(title='Direct Submission', ...)]\n",
      "/accessions=['NC_005816']\n",
      "/data_file_division=CON\n",
      "/date=19-AUG-2015\n",
      "/contig=join(AE017046.1:1..9609)\n",
      "/organism=Yersinia pestis biovar Microtus str. 91001\n",
      "/gi=45478711\n",
      "UnknownSeq(9609, alphabet = IUPACAmbiguousDNA(), character = 'N')\n"
     ]
    },
    {
     "ename": "NameError",
     "evalue": "name 'sequence' is not defined",
     "output_type": "error",
     "traceback": [
      "\u001b[1;31m---------------------------------------------------------------------------\u001b[0m",
      "\u001b[1;31mNameError\u001b[0m                                 Traceback (most recent call last)",
      "\u001b[1;32m<ipython-input-5-d42d71e5d691>\u001b[0m in \u001b[0;36m<module>\u001b[1;34m()\u001b[0m\n\u001b[0;32m      1\u001b[0m \u001b[1;32mprint\u001b[0m \u001b[0mrecord\u001b[0m\u001b[1;33m\u001b[0m\u001b[0m\n\u001b[1;32m----> 2\u001b[1;33m \u001b[1;32mprint\u001b[0m \u001b[0msequence\u001b[0m\u001b[1;33m\u001b[0m\u001b[0m\n\u001b[0m",
      "\u001b[1;31mNameError\u001b[0m: name 'sequence' is not defined"
     ]
    }
   ],
   "source": [
    "print record\n",
    "print sequence"
   ]
  },
  {
   "cell_type": "code",
   "execution_count": null,
   "metadata": {
    "collapsed": true
   },
   "outputs": [],
   "source": []
  }
 ],
 "metadata": {
  "kernelspec": {
   "display_name": "Python [default]",
   "language": "python",
   "name": "python2"
  },
  "language_info": {
   "codemirror_mode": {
    "name": "ipython",
    "version": 2
   },
   "file_extension": ".py",
   "mimetype": "text/x-python",
   "name": "python",
   "nbconvert_exporter": "python",
   "pygments_lexer": "ipython2",
   "version": "2.7.12"
  }
 },
 "nbformat": 4,
 "nbformat_minor": 0
}
