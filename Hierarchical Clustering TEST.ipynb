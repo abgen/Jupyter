{
 "cells": [
  {
   "cell_type": "code",
   "execution_count": 1,
   "metadata": {
    "collapsed": true
   },
   "outputs": [],
   "source": [
    "# needed imports\n",
    "from matplotlib import pyplot as plt\n",
    "from scipy.cluster.hierarchy import dendrogram, linkage\n",
    "import numpy as np\n",
    "\n",
    "# some setting for this notebook to actually show the graphs inline, you probably won't need this\n",
    "%matplotlib inline\n",
    "np.set_printoptions(precision=5, suppress=True)  # suppress scientific float notation"
   ]
  },
  {
   "cell_type": "code",
   "execution_count": 2,
   "metadata": {
    "collapsed": false
   },
   "outputs": [
    {
     "name": "stdout",
     "output_type": "stream",
     "text": [
      "[[  8.44575  -3.4908 ]\n",
      " [  8.99076   1.45581]\n",
      " [  8.77778  -1.80676]\n",
      " [ 10.3985   -2.10488]\n",
      " [ 10.6676    1.91589]\n",
      " [ 10.9048   -1.64601]\n",
      " [  9.5786    2.38603]\n",
      " [  7.91544   0.02521]\n",
      " [ 11.95869  -0.21062]\n",
      " [ 12.2024    0.7146 ]\n",
      " [  8.90299  -0.28829]\n",
      " [  9.239    -3.23949]\n",
      " [ 10.74409   1.26633]\n",
      " [ 10.0602    1.98894]\n",
      " [ 10.00517   2.00592]\n",
      " [  9.49813  -0.40572]\n",
      " [  6.95917  -4.41559]\n",
      " [ 10.59274   0.47927]\n",
      " [  6.40455  -1.008  ]\n",
      " [  8.94616   2.40384]\n",
      " [  8.5775   -1.31911]\n",
      " [  9.30805   0.09203]\n",
      " [  7.22566  -4.47091]\n",
      " [ 11.55942   1.52852]\n",
      " [ 10.68571  -3.2081 ]\n",
      " [ 10.7063   -0.3327 ]\n",
      " [  7.77213  -1.88112]\n",
      " [  9.71592  -1.43455]\n",
      " [  8.57613  -1.49661]\n",
      " [ 13.4858    2.10329]\n",
      " [  9.35586   2.7113 ]\n",
      " [  9.5053    0.6862 ]\n",
      " [ 10.17272  -1.17168]\n",
      " [ 10.90078   0.3658 ]\n",
      " [  9.09394  -1.00539]\n",
      " [ 10.2747    0.8003 ]\n",
      " [  8.88845   2.67667]\n",
      " [  9.12198   0.38063]\n",
      " [  7.40463  -0.26693]\n",
      " [  7.12029   0.25729]\n",
      " [ 10.03392  -2.16224]\n",
      " [ 10.03213  -2.89587]\n",
      " [ 12.16376   1.6158 ]\n",
      " [  9.37988  -0.69701]\n",
      " [  9.80894   2.76553]\n",
      " [  9.57944  -0.39924]\n",
      " [ 13.1451    3.49133]\n",
      " [ 11.9249   -1.15172]\n",
      " [ 10.64819   3.79515]\n",
      " [  9.23515   2.18553]\n",
      " [  8.47079  -1.42554]\n",
      " [ 10.38218  -3.34343]\n",
      " [ 10.99979  -0.48894]\n",
      " [ 10.08503   3.44283]\n",
      " [ 12.87078   0.06682]\n",
      " [ 10.65432   1.73407]\n",
      " [ 12.26483   2.0988 ]\n",
      " [  9.25305  -0.11158]\n",
      " [ 14.06948  -1.27562]\n",
      " [ 12.52025  -0.17159]\n",
      " [ 11.02868   2.40746]\n",
      " [ 10.14957  -2.21675]\n",
      " [ 10.14941   0.85863]\n",
      " [  9.59248   1.1162 ]\n",
      " [  9.71165  -3.0752 ]\n",
      " [  8.33732  -2.90257]\n",
      " [  8.16208  -2.17457]\n",
      " [  8.837    -2.47847]\n",
      " [ 10.21053  -3.01711]\n",
      " [  6.36133  -4.65967]\n",
      " [  8.58894   3.23456]\n",
      " [ 11.65223   1.546  ]\n",
      " [ 10.63735   0.3392 ]\n",
      " [ 10.66841   3.0596 ]\n",
      " [  9.68736  -1.42941]\n",
      " [  7.8432   -2.47183]\n",
      " [  7.84969  -1.9711 ]\n",
      " [ 10.33649   1.81214]\n",
      " [ 12.17213  -0.62971]\n",
      " [ 10.15432   1.13464]\n",
      " [  9.10232   2.74386]\n",
      " [ 10.01277  -1.21385]\n",
      " [  8.61791  -0.7814 ]\n",
      " [ 11.14284  -1.16729]\n",
      " [  9.78438   3.69314]\n",
      " [  9.98716   1.22504]\n",
      " [  9.82668  -2.37185]\n",
      " [  7.47903  -2.27712]\n",
      " [ 10.49491   0.21776]\n",
      " [ 10.60972  -0.66977]\n",
      " [  9.98864  -2.9986 ]\n",
      " [ 10.4048    4.00549]\n",
      " [  8.1821   -1.50774]\n",
      " [  8.93561  -3.58097]\n",
      " [ 11.03854   0.17264]\n",
      " [  8.90532   0.15071]\n",
      " [  7.25539  -3.61966]\n",
      " [ 11.19888   1.57417]\n",
      " [  8.06357  -0.97891]\n",
      " [ 11.49779  -0.76313]]\n",
      "[[ -2.07489  16.97627]\n",
      " [  0.47988  21.04218]\n",
      " [  1.45297  18.56265]\n",
      " [  1.40506  20.83562]\n",
      " [ -3.3805   16.86764]\n",
      " [ -0.2597   18.54772]\n",
      " [  0.6312   21.82808]\n",
      " [ -1.91709  17.11846]\n",
      " [  1.36739  20.14469]\n",
      " [ -1.85578  20.10958]\n",
      " [  1.64555  21.26606]\n",
      " [ -0.85996  18.98568]\n",
      " [ -2.06465  14.86753]\n",
      " [ -1.49895  17.7374 ]\n",
      " [  0.56138  20.65772]\n",
      " [ -1.055    19.47778]\n",
      " [ -3.30781  14.79783]\n",
      " [  1.02906  20.41136]\n",
      " [  2.23533  22.99118]\n",
      " [ -1.78752  20.48326]\n",
      " [  2.58379  21.55288]\n",
      " [ -1.91235  20.32749]\n",
      " [  0.33475  19.92374]\n",
      " [  0.52371  21.86668]\n",
      " [  0.59221  20.98111]\n",
      " [  0.03658  21.94867]\n",
      " [  0.00958  22.5269 ]\n",
      " [  0.58195  20.39905]\n",
      " [ -2.10686  18.61922]\n",
      " [ -0.0673   23.1093 ]\n",
      " [ -1.42564  16.63625]\n",
      " [ -1.5832   17.60591]\n",
      " [  0.99347  20.86194]\n",
      " [  1.71577  18.24842]\n",
      " [  0.0612   17.98606]\n",
      " [  0.87149  18.35929]\n",
      " [  0.3012   22.00325]\n",
      " [  2.50871  23.32556]\n",
      " [  0.80223  21.93168]\n",
      " [ -0.81932  15.14193]\n",
      " [  2.63616  21.3851 ]\n",
      " [  1.77584  19.02897]\n",
      " [  1.62185  20.65535]\n",
      " [  1.55527  16.70444]\n",
      " [ -2.39078  18.78614]\n",
      " [ -0.66933  21.66035]\n",
      " [  1.14404  18.34921]\n",
      " [ -2.63173  18.32835]\n",
      " [ -0.35209  20.08315]\n",
      " [  0.34283  21.05917]]\n",
      "(150, 2)\n"
     ]
    },
    {
     "data": {
      "image/png": "[encoded data removed]",
      "text/plain": [
       "<matplotlib.figure.Figure at 0x7f70da6e9350>"
      ]
     },
     "metadata": {},
     "output_type": "display_data"
    }
   ],
   "source": [
    "# generate two clusters: a with 100 points, b with 50:\n",
    "#np.random.seed(4711)  # for repeatability of this tutorial\n",
    "a = np.random.multivariate_normal([10, 0], [[3, 1], [1, 4]], size=[100,])\n",
    "#a = [34, 52,63,62,8,2,7]\n",
    "print a\n",
    "b = np.random.multivariate_normal([0, 20], [[3, 1], [1, 4]], size=[50,])\n",
    "#b = [5,2,6,3,2,6,7,8,2]\n",
    "print b\n",
    "X = np.concatenate((a, b),)\n",
    "print X.shape  # 150 samples with 2 dimensions\n",
    "plt.scatter(X[:,0], X[:,1])\n",
    "plt.show()\n",
    "\n"
   ]
  },
  {
   "cell_type": "code",
   "execution_count": 6,
   "metadata": {
    "collapsed": false
   },
   "outputs": [
    {
     "name": "stdout",
     "output_type": "stream",
     "text": [
      "[[ 12.47028  -1.31527]\n",
      " [  9.57787   0.09824]\n",
      " [  9.11004  -1.66939]\n",
      " [  9.98413   0.66536]\n",
      " [  8.55129   1.56134]\n",
      " [  9.02482  -0.21528]\n",
      " [  9.93309   0.4663 ]\n",
      " [ 10.25104  -1.10261]\n",
      " [ 11.90335   1.23316]\n",
      " [  8.83758  -0.58178]\n",
      " [ 10.3276   -0.24439]\n",
      " [ 11.14459   3.94657]\n",
      " [ 10.05944   1.70461]\n",
      " [  8.04958  -2.39885]\n",
      " [ 10.79541   1.2903 ]\n",
      " [ 11.30636  -2.66951]\n",
      " [ 10.49888  -1.8759 ]\n",
      " [ 10.54138  -1.36325]\n",
      " [  8.69881   0.16381]\n",
      " [  8.14405   2.27184]\n",
      " [ 10.77452  -0.30186]\n",
      " [  9.71758  -1.26496]\n",
      " [  8.42752  -0.26536]\n",
      " [  8.41676   1.83024]\n",
      " [ 13.70016   1.69828]\n",
      " [ 11.15777   3.57417]\n",
      " [  7.62288   0.01076]\n",
      " [ 10.24934   0.58053]\n",
      " [  8.26466  -1.07004]\n",
      " [ 11.53383   1.69467]\n",
      " [  9.03805  -0.00698]\n",
      " [ 11.37733   2.92956]\n",
      " [ 10.73789   1.63694]\n",
      " [  6.95843   0.51299]\n",
      " [ 10.35033   1.42254]\n",
      " [  8.65069   1.34746]\n",
      " [ 10.80348   2.95997]\n",
      " [  8.92816  -2.56629]\n",
      " [  9.04089  -2.06711]\n",
      " [ 11.14551   0.82093]\n",
      " [  9.59053  -2.31273]\n",
      " [  7.29769  -0.57145]\n",
      " [ 10.03182  -2.73293]\n",
      " [ 11.90555   0.00161]\n",
      " [ 11.67242   2.43659]\n",
      " [  6.92621   0.29056]\n",
      " [  8.39723  -2.96845]\n",
      " [  8.98403  -4.67154]\n",
      " [  9.90376   0.91301]\n",
      " [ 12.07393   2.43294]\n",
      " [ 11.62747  -1.19479]\n",
      " [ 11.77083   1.13661]\n",
      " [ 11.87989  -0.51453]\n",
      " [  8.06647  -0.53245]\n",
      " [ 10.43727   1.08819]\n",
      " [  8.39504   2.50977]\n",
      " [ 11.76075   2.654  ]\n",
      " [  8.47722   0.45755]\n",
      " [  8.96963   1.76275]\n",
      " [ 12.23007   2.26434]\n",
      " [  8.10283  -1.47546]\n",
      " [ 11.02229  -1.31168]\n",
      " [ 10.03055  -1.48012]\n",
      " [  6.34866  -0.01281]\n",
      " [  4.24051  -3.69944]\n",
      " [ 10.1528   -3.07323]\n",
      " [ 11.82545   4.25992]\n",
      " [  8.57972  -0.21864]\n",
      " [ 11.45775   0.60041]\n",
      " [  9.35614  -2.81341]\n",
      " [  9.50169   1.19658]\n",
      " [ 10.17785  -0.41317]\n",
      " [ 11.18353  -2.80559]\n",
      " [  9.97601   3.50847]\n",
      " [  9.64708   2.51092]\n",
      " [  7.76444  -0.5585 ]\n",
      " [  9.30899  -1.1224 ]\n",
      " [  8.69509  -1.17075]\n",
      " [ 11.26444  -3.29061]\n",
      " [  7.90249  -2.48219]\n",
      " [  9.57447   1.04582]\n",
      " [  7.24663  -2.28797]\n",
      " [ 10.74721   3.20664]\n",
      " [ 10.51817   2.58548]\n",
      " [  9.30564   0.29086]\n",
      " [  8.45913  -3.07363]\n",
      " [ 10.01584   2.25442]\n",
      " [ 10.4025    0.53852]\n",
      " [ 13.82537   0.27116]\n",
      " [ 11.73671   2.83447]\n",
      " [  9.95832  -1.05139]\n",
      " [  9.4509    0.98013]\n",
      " [ 13.8395    3.27931]\n",
      " [  8.02876  -0.39228]\n",
      " [ 11.46972   5.15847]\n",
      " [ 14.728     1.06829]\n",
      " [  8.28858   0.34963]\n",
      " [  8.10835   1.95094]\n",
      " [ 12.92356  -0.00709]\n",
      " [ 11.76759   1.5368 ]\n",
      " [ -5.1999   15.10938]\n",
      " [ -0.91106  20.12605]\n",
      " [ -1.07578  23.10863]\n",
      " [  0.82332  17.27843]\n",
      " [ -1.13987  20.55364]\n",
      " [  1.74331  20.8299 ]\n",
      " [  3.12503  20.80503]\n",
      " [ -0.37623  21.79458]\n",
      " [  0.80224  18.29097]\n",
      " [ -3.52446  18.88329]\n",
      " [  1.03803  21.45988]\n",
      " [ -0.34501  20.35071]\n",
      " [  0.42227  23.14395]\n",
      " [  0.00557  24.59944]\n",
      " [ -1.06837  21.18169]\n",
      " [ -3.9315   18.60263]\n",
      " [ -2.92376  18.93133]\n",
      " [  0.05557  19.56894]\n",
      " [ -0.42491  22.21548]\n",
      " [ -2.67063  17.14672]\n",
      " [  0.24579  19.04613]\n",
      " [  0.45747  18.78463]\n",
      " [  3.74349  20.7161 ]\n",
      " [ -1.68841  18.03173]\n",
      " [  1.41912  20.22337]\n",
      " [ -0.84346  20.4611 ]\n",
      " [  1.27866  17.34012]\n",
      " [  2.56017  21.59276]\n",
      " [ -0.83763  19.13321]\n",
      " [  1.58436  20.10044]\n",
      " [ -1.7639   21.74922]\n",
      " [ -0.36793  22.28172]\n",
      " [ -3.05674  19.32952]\n",
      " [ -3.06093  21.59892]\n",
      " [  1.87284  18.64403]\n",
      " [ -0.67251  20.27691]\n",
      " [  0.49646  17.76548]\n",
      " [ -2.22975  18.56189]\n",
      " [ -0.96172  19.99084]\n",
      " [ -1.84827  18.44792]\n",
      " [ -0.48296  18.141  ]\n",
      " [  1.09234  18.68766]\n",
      " [ -0.68236  18.59605]\n",
      " [  0.12779  16.81806]\n",
      " [  0.58038  20.03072]\n",
      " [  3.87295  21.22439]\n",
      " [  2.83014  18.44997]\n",
      " [  0.36078  18.91757]\n",
      " [  0.90507  20.83262]\n",
      " [ -2.87179  16.92505]]\n"
     ]
    }
   ],
   "source": [
    "print X"
   ]
  },
  {
   "cell_type": "code",
   "execution_count": 7,
   "metadata": {
    "collapsed": false
   },
   "outputs": [
    {
     "name": "stdout",
     "output_type": "stream",
     "text": [
      "9.21188388797\n"
     ]
    }
   ],
   "source": [
    "print X[0][0]"
   ]
  },
  {
   "cell_type": "code",
   "execution_count": 9,
   "metadata": {
    "collapsed": false
   },
   "outputs": [
    {
     "name": "stdout",
     "output_type": "stream",
     "text": [
      "[[[345], [232], [2345]]]\n"
     ]
    }
   ],
   "source": [
    "z = []\n",
    "z.append([[345], [232], [2345]])\n",
    "print z"
   ]
  },
  {
   "cell_type": "code",
   "execution_count": 14,
   "metadata": {
    "collapsed": false
   },
   "outputs": [
    {
     "name": "stdout",
     "output_type": "stream",
     "text": [
      "[[  345   959]\n",
      " [  232   959]\n",
      " [  234 84882]]\n"
     ]
    }
   ],
   "source": [
    "z = np.array([[345, 959], [232, 959], [234, 84882]])\n",
    "print z"
   ]
  },
  {
   "cell_type": "code",
   "execution_count": 4,
   "metadata": {
    "collapsed": true
   },
   "outputs": [],
   "source": [
    "Z = linkage(X, 'ward')\n"
   ]
  },
  {
   "cell_type": "code",
   "execution_count": 5,
   "metadata": {
    "collapsed": false
   },
   "outputs": [
    {
     "name": "stdout",
     "output_type": "stream",
     "text": [
      "[[  27.        74.         0.02902    2.     ]\n",
      " [  13.        14.         0.0576     2.     ]\n",
      " [  15.        45.         0.08157    2.     ]\n",
      " [  23.        71.         0.09444    2.     ]\n",
      " [  41.        90.         0.11155    2.     ]\n",
      " [ 106.       123.         0.11421    2.     ]\n",
      " [  26.        76.         0.11879    2.     ]\n",
      " [  28.        50.         0.12707    2.     ]\n",
      " [  40.        61.         0.12785    2.     ]\n",
      " [ 101.       124.         0.12786    2.     ]\n",
      " [  35.        62.         0.13819    2.     ]\n",
      " [  17.        72.         0.147      2.     ]\n",
      " [ 113.       131.         0.15616    2.     ]\n",
      " [  32.        81.         0.16542    2.     ]\n",
      " [  20.       157.         0.1754     3.     ]\n",
      " [ 120.       140.         0.17577    2.     ]\n",
      " [   4.        55.         0.18231    2.     ]\n",
      " [  79.        85.         0.19004    2.     ]\n",
      " [ 119.       121.         0.19962    2.     ]\n",
      " [  21.        57.         0.2109     2.     ]\n",
      " [ 100.       107.         0.21241    2.     ]\n",
      " [  36.        80.         0.22418    2.     ]\n",
      " [ 149.       159.         0.22975    3.     ]\n",
      " [  33.        94.         0.23726    2.     ]\n",
      " [  68.       154.         0.24479    3.     ]\n",
      " [ 114.       127.         0.25948    2.     ]\n",
      " [  88.       161.         0.26101    3.     ]\n",
      " [ 125.       136.         0.2702     2.     ]\n",
      " [  16.        22.         0.27217    2.     ]\n",
      " [ 135.       146.         0.27273    2.     ]\n",
      " [ 138.       155.         0.2772     3.     ]\n",
      " [ 103.       142.         0.28195    2.     ]\n",
      " [  37.        95.         0.31593    2.     ]\n",
      " [  48.        91.         0.32168    2.     ]\n",
      " [ 128.       144.         0.32935    2.     ]\n",
      " [  24.        51.         0.33233    2.     ]\n",
      " [  25.        52.         0.33248    2.     ]\n",
      " [ 109.       168.         0.34162    3.     ]\n",
      " [  19.       171.         0.35836    3.     ]\n",
      " [   3.       158.         0.36744    3.     ]\n",
      " [  77.       166.         0.37495    3.     ]\n",
      " [  43.       152.         0.38643    3.     ]\n",
      " [  53.        84.         0.39122    2.     ]\n",
      " [   6.        30.         0.39422    2.     ]\n",
      " [ 102.       133.         0.40964    2.     ]\n",
      " [  89.       186.         0.41031    3.     ]\n",
      " [  75.        87.         0.41296    2.     ]\n",
      " [  54.        59.         0.42393    2.     ]\n",
      " [ 108.       117.         0.43079    2.     ]\n",
      " [ 118.       137.         0.43191    2.     ]\n",
      " [  31.        63.         0.43875    2.     ]\n",
      " [  92.       164.         0.45494    4.     ]\n",
      " [  11.        93.         0.45678    2.     ]\n",
      " [  64.       174.         0.46558    4.     ]\n",
      " [  44.       193.         0.46733    3.     ]\n",
      " [   8.        78.         0.47031    2.     ]\n",
      " [  97.       153.         0.47183    3.     ]\n",
      " [  42.        56.         0.49347    2.     ]\n",
      " [  66.       156.         0.49672    3.     ]\n",
      " [  86.       189.         0.51854    4.     ]\n",
      " [  34.        82.         0.5261     2.     ]\n",
      " [ 111.       115.         0.52934    2.     ]\n",
      " [ 160.       167.         0.53429    4.     ]\n",
      " [   5.        83.         0.53464    2.     ]\n",
      " [  10.       169.         0.54174    3.     ]\n",
      " [  47.        99.         0.57743    2.     ]\n",
      " [ 126.       129.         0.58745    2.     ]\n",
      " [   7.        38.         0.58845    2.     ]\n",
      " [   0.        65.         0.59814    2.     ]\n",
      " [  49.       188.         0.60524    4.     ]\n",
      " [ 182.       214.         0.61096    5.     ]\n",
      " [ 132.       181.         0.6153     3.     ]\n",
      " [ 147.       184.         0.61832    3.     ]\n",
      " [ 173.       176.         0.6227     5.     ]\n",
      " [   2.       201.         0.62343    5.     ]\n",
      " [ 105.       134.         0.64687    2.     ]\n",
      " [ 150.       163.         0.64837    4.     ]\n",
      " [ 110.       221.         0.69862    4.     ]\n",
      " [ 196.       208.         0.70114    5.     ]\n",
      " [ 122.       148.         0.7051     2.     ]\n",
      " [  12.       190.         0.71824    4.     ]\n",
      " [  60.        73.         0.74504    2.     ]\n",
      " [ 141.       194.         0.75306    3.     ]\n",
      " [  39.       217.         0.76098    3.     ]\n",
      " [ 177.       180.         0.76503    5.     ]\n",
      " [ 172.       175.         0.78858    5.     ]\n",
      " [ 130.       170.         0.81184    3.     ]\n",
      " [  69.       178.         0.8804     3.     ]\n",
      " [  98.       224.         0.90255    6.     ]\n",
      " [   1.       200.         0.90855    3.     ]\n",
      " [ 205.       215.         0.90995    4.     ]\n",
      " [ 183.       192.         0.95986    4.     ]\n",
      " [  67.       218.         0.9759     3.     ]\n",
      " [ 185.       203.         1.00453    6.     ]\n",
      " [ 204.       219.         1.02025    7.     ]\n",
      " [   9.       197.         1.05288    3.     ]\n",
      " [ 151.       230.         1.0608     6.     ]\n",
      " [ 179.       232.         1.07027    5.     ]\n",
      " [ 198.       227.         1.08371    6.     ]\n",
      " [ 202.       242.         1.10056    5.     ]\n",
      " [ 191.       210.         1.14996    5.     ]\n",
      " [  96.       237.         1.20481    4.     ]\n",
      " [ 112.       116.         1.24511    2.     ]\n",
      " [ 206.       207.         1.24748    5.     ]\n",
      " [ 162.       236.         1.24875    5.     ]\n",
      " [  70.       244.         1.27778    8.     ]\n",
      " [  29.        46.         1.42924    2.     ]\n",
      " [ 212.       239.         1.44946    7.     ]\n",
      " [ 195.       213.         1.46205    5.     ]\n",
      " [ 145.       234.         1.49348    6.     ]\n",
      " [ 220.       250.         1.59972   10.     ]\n",
      " [ 229.       235.         1.64784    7.     ]\n",
      " [ 216.       259.         1.71714    8.     ]\n",
      " [ 231.       246.         1.80556    8.     ]\n",
      " [  18.       233.         1.80972    4.     ]\n",
      " [ 211.       225.         1.82619    4.     ]\n",
      " [ 209.       226.         1.84912    8.     ]\n",
      " [ 240.       245.         2.03591    7.     ]\n",
      " [ 139.       252.         2.1851     3.     ]\n",
      " [ 104.       254.         2.2154     6.     ]\n",
      " [ 228.       238.         2.24178   11.     ]\n",
      " [ 143.       247.         2.3401     6.     ]\n",
      " [ 165.       199.         2.41273    4.     ]\n",
      " [ 248.       261.         2.50686   13.     ]\n",
      " [ 223.       258.         2.64787   10.     ]\n",
      " [  58.       267.         2.82819    8.     ]\n",
      " [ 222.       269.         2.95034    9.     ]\n",
      " [ 253.       263.         3.21421   13.     ]\n",
      " [ 243.       249.         3.29393   11.     ]\n",
      " [ 241.       255.         3.49289   12.     ]\n",
      " [ 187.       265.         3.78451    7.     ]\n",
      " [ 257.       260.         4.27929   17.     ]\n",
      " [ 264.       270.         4.31336   15.     ]\n",
      " [ 266.       278.         4.34891   19.     ]\n",
      " [ 256.       277.         4.63062   15.     ]\n",
      " [ 274.       275.         4.79035   18.     ]\n",
      " [ 262.       273.         5.01849   21.     ]\n",
      " [ 268.       276.         5.71759   12.     ]\n",
      " [ 272.       286.         5.73491   25.     ]\n",
      " [ 271.       280.         7.09177   13.     ]\n",
      " [ 279.       284.         7.42308   27.     ]\n",
      " [ 251.       282.         7.76462   19.     ]\n",
      " [ 281.       285.         9.05344   35.     ]\n",
      " [ 283.       291.         9.1561    38.     ]\n",
      " [ 287.       289.        10.18201   25.     ]\n",
      " [ 290.       292.        13.84197   62.     ]\n",
      " [ 288.       294.        19.51668   50.     ]\n",
      " [ 293.       295.        25.74987  100.     ]\n",
      " [ 296.       297.       181.21592  150.     ]]\n"
     ]
    }
   ],
   "source": [
    "print Z"
   ]
  },
  {
   "cell_type": "code",
   "execution_count": null,
   "metadata": {
    "collapsed": true
   },
   "outputs": [],
   "source": []
  },
  {
   "cell_type": "markdown",
   "metadata": {
    "collapsed": false
   },
   "source": [
    "# calculate full dendrogram\n",
    "plt.figure(figsize=(25, 10))\n",
    "plt.title('Hierarchical Clustering Dendrogram')\n",
    "plt.xlabel('sample index')\n",
    "plt.ylabel('distance')\n",
    "dendrogram(\n",
    "    Z,\n",
    "    leaf_rotation=90.,  # rotates the x axis labels\n",
    "    leaf_font_size=8.,  # font size for the x axis labels\n",
    "    orientation='left'\n",
    ")\n",
    "plt.show()"
   ]
  },
  {
   "cell_type": "code",
   "execution_count": 67,
   "metadata": {
    "collapsed": false
   },
   "outputs": [
    {
     "name": "stdout",
     "output_type": "stream",
     "text": [
      "[[38, 48, 12, 37, 44, 8, 13, 31, 27, 32], [36, 50, 23, 38, 36, 50, 47, 66, 47, 62], [58, 42, 60, 38, 46, 62, 54, 40, 50, 60], [45, 43, 49, 26, 31, 42, 30, 8, 47, 33], [68, 63, 35, 52, 36, 35, 64, 43, 37, 36], [43, 28, 38, 18, 35, 41, 26, 15, 12, 49], [64, 20, 55, 51, 65, 50, 20, 65, 38, 46], [54, 34, 24, 32, 19, 46, 33, 23, 19, 29], [27, 2, 33, 2, 0, 30, 14, 26, 21, 9], [64, 46, 60, 49, 74, 48, 78, 72, 47, 53]]\n",
      "[[36, 50, 23, 38, 36, 50, 47, 66, 47, 62], [68, 63, 35, 52, 36, 35, 64, 43, 37, 36], [64, 20, 55, 51, 65, 50, 20, 65, 38, 46], [58, 42, 60, 38, 46, 62, 54, 40, 50, 60], [64, 46, 60, 49, 74, 48, 78, 72, 47, 53], [27, 2, 33, 2, 0, 30, 14, 26, 21, 9], [38, 48, 12, 37, 44, 8, 13, 31, 27, 32], [45, 43, 49, 26, 31, 42, 30, 8, 47, 33], [43, 28, 38, 18, 35, 41, 26, 15, 12, 49], [54, 34, 24, 32, 19, 46, 33, 23, 19, 29]]\n",
      "['b', 'e', 'g', 'c', 'j', 'i', 'a', 'd', 'f', 'h']\n"
     ]
    },
    {
     "data": {
      "image/png": "[encoded data removed]",
      "text/plain": [
       "<matplotlib.figure.Figure at 0x7f70bba01cd0>"
      ]
     },
     "metadata": {},
     "output_type": "display_data"
    },
    {
     "data": {
      "image/png": "[encoded data removed]",
      "text/plain": [
       "<matplotlib.figure.Figure at 0x7f70bb7ebd10>"
      ]
     },
     "metadata": {},
     "output_type": "display_data"
    }
   ],
   "source": [
    "#mat = np.random.rand(10,10)\n",
    "#mat = [[2,6,7,45,55], [39,54,81,2,5],[32,66,77,8,12],[2,69,55,25,2],[3,9,11,65,35] ]\n",
    "#mat = [[2,6,7,2,5], [95,39,39,29,49]]\n",
    "mat = []\n",
    "mat.append(np.ndarray.tolist(np.random.randint(0, high=50,size=[10,])))\n",
    "mat.append(np.ndarray.tolist(np.random.randint(20, high=70,size=[10,])))\n",
    "mat.append(np.ndarray.tolist(np.random.randint(30, high=65,size=[10,])))\n",
    "mat.append(np.ndarray.tolist(np.random.randint(0, high=50,size=[10,])))\n",
    "mat.append(np.ndarray.tolist(np.random.randint(35, high=75,size=[10,])))\n",
    "mat.append(np.ndarray.tolist(np.random.randint(0, high=50,size=[10,])))\n",
    "mat.append(np.ndarray.tolist(np.random.randint(20, high=70,size=[10,])))\n",
    "mat.append(np.ndarray.tolist(np.random.randint(10, high=55,size=[10,])))\n",
    "mat.append(np.ndarray.tolist(np.random.randint(0, high=35,size=[10,])))\n",
    "mat.append(np.ndarray.tolist(np.random.randint(45, high=80,size=[10,])))\n",
    "print mat\n",
    "\n",
    "labels = ['a', 'b', 'c', 'd', 'e', 'f', 'g', 'h', 'i', 'j']\n",
    "\n",
    "d = linkage(mat, 'ward')\n",
    "dendout = dendrogram(d,leaf_rotation=90.,leaf_font_size=8.,orientation='bottom')\n",
    "new_matrix = []\n",
    "new_labels = []\n",
    "for i in dendout['ivl']:\n",
    "    new_matrix.append(mat[int(i)])\n",
    "    new_labels.append(labels[int(i)])\n",
    "print new_matrix\n",
    "print new_labels\n",
    "fig, ax = plt.subplots(figsize=(5, 5))\n",
    "heatmap = ax.pcolormesh(new_matrix, cmap=plt.cm.Blues_r)\n",
    "#print row_labels\n",
    "ax.invert_yaxis()\n",
    "ax.xaxis.tick_top()\n",
    "ax.set_yticks(np.arange(len(new_labels))+.5)\n",
    "#ax.set_xticks(np.arange(len(row_labels))+.5)\n",
    "ax.set_yticklabels([x for x in new_labels])\n",
    "#ax.set_xticklabels([x[:9] for x in row_labels], rotation='vertical')\n",
    "plt.colorbar(heatmap)\n",
    "plt.show()"
   ]
  },
  {
   "cell_type": "code",
   "execution_count": 31,
   "metadata": {
    "collapsed": false
   },
   "outputs": [
    {
     "name": "stdout",
     "output_type": "stream",
     "text": [
      "[[   1.         2.        17.14643    2.     ]\n",
      " [   0.         4.        28.74022    2.     ]\n",
      " [   3.         5.        54.42426    3.     ]\n",
      " [   6.         7.       160.80174    5.     ]]\n"
     ]
    }
   ],
   "source": [
    "d = linkage(mat, 'ward')\n",
    "print d"
   ]
  },
  {
   "cell_type": "code",
   "execution_count": 33,
   "metadata": {
    "collapsed": false
   },
   "outputs": [
    {
     "data": {
      "image/png": "[encoded data removed]",
      "text/plain": [
       "<matplotlib.figure.Figure at 0x7f70bba363d0>"
      ]
     },
     "metadata": {},
     "output_type": "display_data"
    }
   ],
   "source": [
    "dendout = dendrogram(d,leaf_rotation=90.,leaf_font_size=8.,orientation='bottom')"
   ]
  },
  {
   "cell_type": "code",
   "execution_count": 35,
   "metadata": {
    "collapsed": false
   },
   "outputs": [
    {
     "name": "stdout",
     "output_type": "stream",
     "text": [
      "['0', '4', '3', '1', '2']\n"
     ]
    }
   ],
   "source": [
    "print dendout['ivl']"
   ]
  },
  {
   "cell_type": "code",
   "execution_count": 41,
   "metadata": {
    "collapsed": false
   },
   "outputs": [
    {
     "name": "stdout",
     "output_type": "stream",
     "text": [
      "[[2, 6, 7, 45, 55], [3, 9, 11, 65, 35], [2, 69, 55, 25, 2], [39, 54, 81, 2, 5], [32, 66, 77, 8, 12]]\n"
     ]
    }
   ],
   "source": [
    "new_matrix = []\n",
    "for i in dendout['ivl']:\n",
    "    new_matrix.append(mat[int(i)])\n",
    "    \n",
    "print new_matrix"
   ]
  },
  {
   "cell_type": "code",
   "execution_count": 42,
   "metadata": {
    "collapsed": false
   },
   "outputs": [
    {
     "data": {
      "image/png": "[encoded data removed]",
      "text/plain": [
       "<matplotlib.figure.Figure at 0x7f70bbb31510>"
      ]
     },
     "metadata": {},
     "output_type": "display_data"
    }
   ],
   "source": [
    "\n",
    "fig, ax = plt.subplots(figsize=(5, 5))\n",
    "heatmap = ax.pcolormesh(new_matrix, cmap=plt.cm.Blues)\n",
    "#print row_labels\n",
    "ax.invert_yaxis()\n",
    "ax.xaxis.tick_top()\n",
    "#ax.set_yticks(np.arange(len(row_labels))+.5)\n",
    "#ax.set_xticks(np.arange(len(row_labels))+.5)\n",
    "#ax.set_yticklabels([x[:9] for x in row_labels])\n",
    "#ax.set_xticklabels([x[:9] for x in row_labels], rotation='vertical')\n",
    "plt.colorbar(heatmap)\n",
    "plt.show()"
   ]
  },
  {
   "cell_type": "code",
   "execution_count": 55,
   "metadata": {
    "collapsed": false
   },
   "outputs": [
    {
     "name": "stdout",
     "output_type": "stream",
     "text": [
      "[13 17 19 14 48]\n",
      "[43 71 42 61 66]\n",
      "[13 17 19 14 48 43 71 42 61 66]\n"
     ]
    }
   ],
   "source": [
    "a = np.random.randint(0, high=50,size=[5,])\n",
    "#a = [34, 52,63,62,8,2,7]\n",
    "print a\n",
    "b = np.random.randint(40, high=75, size=[5,])\n",
    "#b = [5,2,6,3,2,6,7,8,2]\n",
    "print b\n",
    "X = np.concatenate((a, b),)\n",
    "print X"
   ]
  },
  {
   "cell_type": "code",
   "execution_count": 63,
   "metadata": {
    "collapsed": false
   },
   "outputs": [
    {
     "name": "stdout",
     "output_type": "stream",
     "text": [
      "[14 18 10 88  7]\n",
      "[14, 18, 10, 88, 7]\n"
     ]
    }
   ],
   "source": [
    "q = np.random.randint(90, size=(5, ))\n",
    "print q\n",
    "print np.ndarray.tolist(q)"
   ]
  },
  {
   "cell_type": "code",
   "execution_count": null,
   "metadata": {
    "collapsed": true
   },
   "outputs": [],
   "source": []
  }
 ],
 "metadata": {
  "kernelspec": {
   "display_name": "Python [Root]",
   "language": "python",
   "name": "Python [Root]"
  },
  "language_info": {
   "codemirror_mode": {
    "name": "ipython",
    "version": 2
   },
   "file_extension": ".py",
   "mimetype": "text/x-python",
   "name": "python",
   "nbconvert_exporter": "python",
   "pygments_lexer": "ipython2",
   "version": "2.7.12"
  }
 },
 "nbformat": 4,
 "nbformat_minor": 0
}
