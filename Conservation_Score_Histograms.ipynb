{
 "cells": [
  {
   "cell_type": "code",
   "execution_count": 1,
   "metadata": {
    "collapsed": true
   },
   "outputs": [],
   "source": [
    "### Pick the file directory\n",
    "directory = '/media/ab/data/Research_Data/Enhancers/ConservationScores/'"
   ]
  },
  {
   "cell_type": "code",
   "execution_count": 24,
   "metadata": {
    "collapsed": false,
    "scrolled": true
   },
   "outputs": [
    {
     "name": "stdout",
     "output_type": "stream",
     "text": [
      "['output (copy).con', 'output.con']\n",
      "nonvalues =  72809\n",
      "data:  6106\n"
     ]
    },
    {
     "data": {
      "image/png": "[encoded data removed]",
      "text/plain": [
       "<matplotlib.figure.Figure at 0x7fae339ccf10>"
      ]
     },
     "metadata": {},
     "output_type": "display_data"
    },
    {
     "name": "stdout",
     "output_type": "stream",
     "text": [
      "nonvalues =  72809\n",
      "data:  6106\n"
     ]
    },
    {
     "data": {
      "image/png": "[encoded data removed]",
      "text/plain": [
       "<matplotlib.figure.Figure at 0x7fae33b51a90>"
      ]
     },
     "metadata": {},
     "output_type": "display_data"
    },
    {
     "ename": "SystemExit",
     "evalue": "",
     "output_type": "error",
     "traceback": [
      "An exception has occurred, use %tb to see the full traceback.\n",
      "\u001b[1;31mSystemExit\u001b[0m\n"
     ]
    },
    {
     "name": "stderr",
     "output_type": "stream",
     "text": [
      "To exit: use 'exit', 'quit', or Ctrl-D.\n"
     ]
    }
   ],
   "source": [
    "### This cell imports the data from a text file that contains the distances between features and sorts them\n",
    "### by chromosome. It creates a histogram for each chromosome that shows the distances between the features. \n",
    "\n",
    "%matplotlib inline\n",
    "\n",
    "import numpy as np\n",
    "import matplotlib.pyplot as plt\n",
    "import os\n",
    "import scipy\n",
    "import sys\n",
    "from scipy import stats\n",
    "import matplotlib.ticker as mtick\n",
    "\n",
    "\n",
    "### Initiate lists of variables for later use\n",
    "conScores = []\n",
    "#all_data = dict()\n",
    "def main():  \n",
    "    \n",
    "    dir_list = sorted(os.listdir(directory))\n",
    "    print dir_list\n",
    "    for filename in dir_list:\n",
    "        if filename[-4:] == '.con':      ### Load only the TSV files\n",
    "            conScores = load_from_file(directory+filename)\n",
    "        make_graphs(filename, conScores)\n",
    "\n",
    "def load_from_file(file_to_open):              \n",
    "    \n",
    "    nonvalues = 0\n",
    "    x=open(file_to_open)   ### Open the file\n",
    "    data = []                    ### Initiate the data list\n",
    "    for line in x:               ### For each line in the file \n",
    "        meanConScore = (line.strip('\\n').split('\\t')[6])\n",
    "        if meanConScore != \".\":\n",
    "            data.append(float(meanConScore))\n",
    "        else:\n",
    "            nonvalues += 1\n",
    "    print \"nonvalues = \", nonvalues        \n",
    "    x.close()\n",
    "    return data \n",
    "        \n",
    "        \n",
    "def make_graphs(fn, data):\n",
    "    \n",
    "    print \"data: \", len(data)\n",
    "    #print \"data: \", data[:400]\n",
    "    #print type(data[1])\n",
    "    x_bins = 200\n",
    "\n",
    "    ### Make the subplot for the boxplot\n",
    "    fig, axs = plt.subplots(nrows=1, ncols=1, figsize=(4, 4))\n",
    "    n = \"N = \"+str(len(data))\n",
    "    #axs = axs.ravel()\n",
    "    axs.boxplot(data)\n",
    "    #axs.hist(data, x_bins, histtype='bar')\n",
    "    #axs.set_title(key)\n",
    "    #axs.locator_params(axis='x',nbins=6)\n",
    "    #axs.set_yscale(\"log\", nonposy='clip')\n",
    "    #axs.ticklabel_format(style='sci', axis='x', scilimits=(0,0))\n",
    "    #axs.set_xlim(left=-100000, right=100000)\n",
    "    #axs.set_ylim(bottom=.0000001, top=.0001)\n",
    "    \n",
    "    #print chrom\n",
    "    \n",
    "    ### Add a title to the plot\n",
    "    fig.suptitle(n, y=1.02, fontsize=14)\n",
    "    #axs.text(.7, .5, n)\n",
    "    #axs.xlabel(fn)\n",
    "    axs.set_xticklabels([fn], fontsize=14)\n",
    "    ### Set the layout and show the plot\n",
    "    plt.tight_layout()\n",
    "    plt.show()\n",
    "    \n",
    "\n",
    "if __name__ == \"__main__\":\n",
    "    sys.exit(main())"
   ]
  },
  {
   "cell_type": "code",
   "execution_count": null,
   "metadata": {
    "collapsed": true
   },
   "outputs": [],
   "source": []
  }
 ],
 "metadata": {
  "kernelspec": {
   "display_name": "Python 2",
   "language": "python",
   "name": "python2"
  },
  "language_info": {
   "codemirror_mode": {
    "name": "ipython",
    "version": 2
   },
   "file_extension": ".py",
   "mimetype": "text/x-python",
   "name": "python",
   "nbconvert_exporter": "python",
   "pygments_lexer": "ipython2",
   "version": "2.7.11"
  }
 },
 "nbformat": 4,
 "nbformat_minor": 0
}
